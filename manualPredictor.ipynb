{
  "nbformat": 4,
  "nbformat_minor": 0,
  "metadata": {
    "colab": {
      "provenance": []
    },
    "kernelspec": {
      "name": "python3",
      "display_name": "Python 3"
    },
    "language_info": {
      "name": "python"
    }
  },
  "cells": [
    {
      "cell_type": "code",
      "source": [
        "import pandas as pd"
      ],
      "metadata": {
        "id": "fi3w0MCtvFjn"
      },
      "execution_count": null,
      "outputs": []
    },
    {
      "cell_type": "code",
      "source": [
        "\"\"\"\n",
        "  Data preprocessing for crowd crush risk assessment.\n",
        "  df: model output dataframe containing crowd density and flow rate\n",
        "\"\"\"\n",
        "def preprocess_model_output(df: pd.DataFrame) -> pd.DataFrame:\n",
        "  # Only calculate for labels >= 0\n",
        "  df = df[df[\"labels\"] >= 0]\n",
        "\n",
        "  # Extract speed & density values with error handling for 'e' notation, remove\n",
        "  df_filtered = df[~df['people_per_m2'].isin(['e'])]\n",
        "  df_filtered = df_filtered[~df_filtered['speed_per_group'].isin(['e'])]\n",
        "\n",
        "  df_filtered.dropna(inplace=True)\n",
        "  return df_filtered"
      ],
      "metadata": {
        "collapsed": true,
        "id": "CRTCu5MIufIE"
      },
      "execution_count": 15,
      "outputs": []
    },
    {
      "cell_type": "code",
      "execution_count": 17,
      "metadata": {
        "id": "EkhCpPWNtwHi"
      },
      "outputs": [],
      "source": [
        "\"\"\"\n",
        "  Return likelhood of a crowd crush.\n",
        "  flow rate: m/s\n",
        "  density: people/m^2\n",
        "\"\"\"\n",
        "def assess_crowd_crush_risk(flow_rate: float, density: float) -> int:\n",
        "  # Thresholds defined based on Moussaid's research image\n",
        "  congestion_threshold_flow = 1.2\n",
        "  congestion_threshold_density = 5\n",
        "  crush_threshold_flow = 0.3\n",
        "  crush_threshold_density = 7\n",
        "\n",
        "  if flow_rate >= crush_threshold_flow and density >= crush_threshold_density:\n",
        "    return 2\n",
        "    # \"High Risk - Crowd Crush Likely\"\n",
        "  elif flow_rate >= congestion_threshold_flow and density >= congestion_threshold_density:\n",
        "    return 1\n",
        "    # \"Medium Risk - Congestion Possible\"\n",
        "  else:\n",
        "    return 0\n",
        "    # \"Low Risk - Monitor Conditions\"'\n",
        "\n",
        "\n",
        "\"\"\"\n",
        "  Return mode of list of likelhoods.\n",
        "  Returns -1 if list is empty.\n",
        "  likelihoods: list of int likelhoods of crowd crush (0~2)\n",
        "\"\"\"\n",
        "def get_mode_likelihoods(likelihoods: list[int]) -> int:\n",
        "  if len(likelihoods) == 0:\n",
        "    return -1\n",
        "  else:\n",
        "    return max(set(likelihoods), key=likelihoods.count)\n"
      ]
    },
    {
      "cell_type": "code",
      "source": [
        "\"\"\"\n",
        "  Predict crowd crush risk for given image.\n",
        "  df: model output dataframe containing crowd density and flow rate\n",
        "\"\"\"\n",
        "def predict_disaster(df: pd.DataFrame) -> int:\n",
        "  data = preprocess_model_output(df)\n",
        "  speed = data['speed_per_group'].iloc[:]\n",
        "  density = data['people_per_m2'].iloc[:]\n",
        "\n",
        "  likelihoods = []\n",
        "  for i in range(0, len(speed)):\n",
        "    likelihoods.append(assess_crowd_crush_risk(speed.iloc[i], density.iloc[i]))\n",
        "\n",
        "  return get_mode_likelihoods(likelihoods)"
      ],
      "metadata": {
        "id": "-AbJpyVXBev4"
      },
      "execution_count": 41,
      "outputs": []
    }
  ]
}