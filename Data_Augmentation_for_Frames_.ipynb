{
  "nbformat": 4,
  "nbformat_minor": 0,
  "metadata": {
    "colab": {
      "provenance": [],
      "authorship_tag": "ABX9TyO4e5hiIh1vBBfPfKQxheXf",
      "include_colab_link": true
    },
    "kernelspec": {
      "name": "python3",
      "display_name": "Python 3"
    },
    "language_info": {
      "name": "python"
    }
  },
  "cells": [
    {
      "cell_type": "markdown",
      "metadata": {
        "id": "view-in-github",
        "colab_type": "text"
      },
      "source": [
        "<a href=\"https://colab.research.google.com/github/dodorlee1210/CrowdGuard/blob/main/Data_Augmentation_for_Frames_.ipynb\" target=\"_parent\"><img src=\"https://colab.research.google.com/assets/colab-badge.svg\" alt=\"Open In Colab\"/></a>"
      ]
    },
    {
      "cell_type": "code",
      "execution_count": null,
      "metadata": {
        "id": "giHWrEWfeG_9"
      },
      "outputs": [],
      "source": []
    },
    {
      "cell_type": "code",
      "source": [
        "from google.colab import drive\n",
        "drive.mount('/content/drive')\n",
        "\n",
        "!pip install albumentations==1.3.0\n",
        "\n"
      ],
      "metadata": {
        "colab": {
          "base_uri": "https://localhost:8080/"
        },
        "id": "nRZQArQXu3K2",
        "outputId": "a328ebf8-c5d8-4c4a-9050-d7830aa5c908"
      },
      "execution_count": null,
      "outputs": [
        {
          "output_type": "stream",
          "name": "stdout",
          "text": [
            "Mounted at /content/drive\n",
            "Collecting albumentations==1.3.0\n",
            "  Downloading albumentations-1.3.0-py3-none-any.whl (123 kB)\n",
            "\u001b[2K     \u001b[90m━━━━━━━━━━━━━━━━━━━━━━━━━━━━━━━━━━━━━━━━\u001b[0m \u001b[32m123.5/123.5 kB\u001b[0m \u001b[31m3.7 MB/s\u001b[0m eta \u001b[36m0:00:00\u001b[0m\n",
            "\u001b[?25hRequirement already satisfied: numpy>=1.11.1 in /usr/local/lib/python3.10/dist-packages (from albumentations==1.3.0) (1.25.2)\n",
            "Requirement already satisfied: scipy in /usr/local/lib/python3.10/dist-packages (from albumentations==1.3.0) (1.11.4)\n",
            "Requirement already satisfied: scikit-image>=0.16.1 in /usr/local/lib/python3.10/dist-packages (from albumentations==1.3.0) (0.19.3)\n",
            "Requirement already satisfied: PyYAML in /usr/local/lib/python3.10/dist-packages (from albumentations==1.3.0) (6.0.1)\n",
            "Requirement already satisfied: qudida>=0.0.4 in /usr/local/lib/python3.10/dist-packages (from albumentations==1.3.0) (0.0.4)\n",
            "Requirement already satisfied: opencv-python-headless>=4.1.1 in /usr/local/lib/python3.10/dist-packages (from albumentations==1.3.0) (4.10.0.84)\n",
            "Requirement already satisfied: scikit-learn>=0.19.1 in /usr/local/lib/python3.10/dist-packages (from qudida>=0.0.4->albumentations==1.3.0) (1.2.2)\n",
            "Requirement already satisfied: typing-extensions in /usr/local/lib/python3.10/dist-packages (from qudida>=0.0.4->albumentations==1.3.0) (4.12.2)\n",
            "Requirement already satisfied: networkx>=2.2 in /usr/local/lib/python3.10/dist-packages (from scikit-image>=0.16.1->albumentations==1.3.0) (3.3)\n",
            "Requirement already satisfied: pillow!=7.1.0,!=7.1.1,!=8.3.0,>=6.1.0 in /usr/local/lib/python3.10/dist-packages (from scikit-image>=0.16.1->albumentations==1.3.0) (9.4.0)\n",
            "Requirement already satisfied: imageio>=2.4.1 in /usr/local/lib/python3.10/dist-packages (from scikit-image>=0.16.1->albumentations==1.3.0) (2.31.6)\n",
            "Requirement already satisfied: tifffile>=2019.7.26 in /usr/local/lib/python3.10/dist-packages (from scikit-image>=0.16.1->albumentations==1.3.0) (2024.5.22)\n",
            "Requirement already satisfied: PyWavelets>=1.1.1 in /usr/local/lib/python3.10/dist-packages (from scikit-image>=0.16.1->albumentations==1.3.0) (1.6.0)\n",
            "Requirement already satisfied: packaging>=20.0 in /usr/local/lib/python3.10/dist-packages (from scikit-image>=0.16.1->albumentations==1.3.0) (24.1)\n",
            "Requirement already satisfied: joblib>=1.1.1 in /usr/local/lib/python3.10/dist-packages (from scikit-learn>=0.19.1->qudida>=0.0.4->albumentations==1.3.0) (1.4.2)\n",
            "Requirement already satisfied: threadpoolctl>=2.0.0 in /usr/local/lib/python3.10/dist-packages (from scikit-learn>=0.19.1->qudida>=0.0.4->albumentations==1.3.0) (3.5.0)\n",
            "Installing collected packages: albumentations\n",
            "  Attempting uninstall: albumentations\n",
            "    Found existing installation: albumentations 1.3.1\n",
            "    Uninstalling albumentations-1.3.1:\n",
            "      Successfully uninstalled albumentations-1.3.1\n",
            "Successfully installed albumentations-1.3.0\n"
          ]
        }
      ]
    },
    {
      "cell_type": "code",
      "source": [],
      "metadata": {
        "id": "YWKqcapgeeVU"
      },
      "execution_count": null,
      "outputs": []
    },
    {
      "cell_type": "code",
      "source": [
        "import albumentations as A\n",
        "from PIL import Image\n",
        "import numpy as np\n",
        "import os\n",
        "\n",
        "transform = A.Compose([\n",
        "\n",
        "    A.RandomBrightnessContrast(p=1.0),\n",
        "    A.HorizontalFlip(p=1.0),\n",
        "    A.GaussNoise(var_limit=(1880.0, 2080.0), mean=0, p=1.0),  # Add Gaussian noise\n",
        "    A.Blur(blur_limit=(25), p=1),\n",
        "    A.CoarseDropout(max_holes=1000, max_height=8, max_width=8, p=1.0)\n",
        "])\n",
        "\n",
        "image_folder = '/content/drive/MyDrive/AI4Good/V2/data/UCF_CrowdsDataset_Frames/637-147_l'\n",
        "\n",
        "#Results of the augmentation can be found in the below folder\n",
        "output_folder = '/content/drive/MyDrive/AI4Good/V2/data/Untitled folder'\n",
        "\n",
        "\n",
        "for filename in os.listdir(image_folder):\n",
        "  if filename.endswith('.jpg') or filename.endswith('.png'):  # Adjust file extensions as needed\n",
        "    image_path = os.path.join(image_folder, filename)\n",
        "    original_image = np.array(Image.open(image_path))\n",
        "\n",
        "    # Apply each augmentation to the original image\n",
        "    for i, augmentation in enumerate(transform):\n",
        "          image = original_image.copy()  # Start with the original image each time\n",
        "          augmented_image = augmentation(image=image)['image']\n",
        "\n",
        "          # Save the augmented image with a unique name\n",
        "          output_path = os.path.join(output_folder, f'augmented_{i}_{filename}')\n",
        "          Image.fromarray(augmented_image).save(output_path)\n",
        "\n",
        "\n",
        "\n",
        "\"\"\"\n",
        "#attempt to iterate augs through images\n",
        "for filename in os.listdir(image_folder):\n",
        "  if filename.endswith('.jpg') or filename.endswith('.png'):\n",
        "    image_path = os.path.join(image_folder, filename)\n",
        "    image = np.array(Image.open(image_path))\n",
        "\n",
        "    for i, augmentation in enumerate(transform):\n",
        "            augmented_image = augmentation(image=image)['image']\n",
        "\n",
        "            # Save the augmented image with a unique name\n",
        "            output_path = os.path.join(output_folder, f'augmented_{i}_{filename}')\n",
        "            Image.fromarray(augmented_image).save(output_path)\n",
        "\n",
        "            # Update 'image' for the next augmentation\n",
        "            image = augmented_image\n",
        "\"\"\"\n",
        "\n"
      ],
      "metadata": {
        "id": "4rw38FEj4lbo",
        "colab": {
          "base_uri": "https://localhost:8080/",
          "height": 157
        },
        "outputId": "c69527ec-9ad8-4185-ae8f-70b41e0350f6"
      },
      "execution_count": null,
      "outputs": [
        {
          "output_type": "execute_result",
          "data": {
            "text/plain": [
              "\"\\n#attempt to iterate augs through images\\nfor filename in os.listdir(image_folder):\\n  if filename.endswith('.jpg') or filename.endswith('.png'):\\n    image_path = os.path.join(image_folder, filename)\\n    image = np.array(Image.open(image_path))\\n\\n    for i, augmentation in enumerate(transform):\\n            augmented_image = augmentation(image=image)['image']\\n\\n            # Save the augmented image with a unique name\\n            output_path = os.path.join(output_folder, f'augmented_{i}_{filename}')\\n            Image.fromarray(augmented_image).save(output_path)\\n\\n            # Update 'image' for the next augmentation\\n            image = augmented_image\\n\""
            ],
            "application/vnd.google.colaboratory.intrinsic+json": {
              "type": "string"
            }
          },
          "metadata": {},
          "execution_count": 2
        }
      ]
    },
    {
      "cell_type": "code",
      "source": [],
      "metadata": {
        "id": "i2oBE9itmxV6"
      },
      "execution_count": null,
      "outputs": []
    }
  ]
}