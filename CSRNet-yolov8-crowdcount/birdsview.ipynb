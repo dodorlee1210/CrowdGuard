{
 "cells": [
  {
   "cell_type": "code",
   "execution_count": 1,
   "metadata": {},
   "outputs": [
    {
     "name": "stdout",
     "output_type": "stream",
     "text": [
      "Point selected: (1094, 221)\n",
      "Point selected: (1262, 463)\n",
      "Point selected: (631, 679)\n",
      "Point selected: (317, 345)\n"
     ]
    },
    {
     "data": {
      "text/plain": [
       "True"
      ]
     },
     "execution_count": 1,
     "metadata": {},
     "output_type": "execute_result"
    }
   ],
   "source": [
    "import cv2\n",
    "import numpy as np\n",
    "\n",
    "# Initialize a list to store the points\n",
    "points = []\n",
    "\n",
    "# Define the mouse callback function to capture points\n",
    "def select_points(event, x, y, flags, param):\n",
    "    global points\n",
    "    if event == cv2.EVENT_LBUTTONDOWN:\n",
    "        points.append((x, y))\n",
    "        print(f\"Point selected: ({x}, {y})\")\n",
    "        # Draw a circle on the selected point\n",
    "        cv2.circle(image, (x, y), 5, (0, 255, 0), -1)\n",
    "        cv2.imshow('Select Points', image)\n",
    "\n",
    "# Load the image\n",
    "image = cv2.imread('inputs/000001.jpg')\n",
    "\n",
    "# Create a window and set the mouse callback function\n",
    "cv2.namedWindow('Select Points')\n",
    "cv2.setMouseCallback('Select Points', select_points)\n",
    "\n",
    "# Display the image and wait for the user to select points\n",
    "while True:\n",
    "    cv2.imshow('Select Points', image)\n",
    "    if len(points) == 4:\n",
    "        break\n",
    "    cv2.waitKey(1)\n",
    "\n",
    "cv2.destroyAllWindows()\n",
    "\n",
    "# Ensure exactly four points were selected\n",
    "if len(points) != 4:\n",
    "    raise ValueError(\"Four points must be selected\")\n",
    "\n",
    "# Convert the points to the required format\n",
    "src_points = np.float32(points)\n",
    "\n",
    "# Define the desired destination points (e.g., for a bird's eye view)\n",
    "width, height = 500, 600  # Set the desired width and height of the output image\n",
    "dst_points = np.float32([\n",
    "    [0, 0],               # Top-left corner\n",
    "    [width, 0],           # Top-right corner\n",
    "    [width, height],      # Bottom-right corner\n",
    "    [0, height]           # Bottom-left corner\n",
    "])\n",
    "\n",
    "# Compute the perspective transform matrix\n",
    "M = cv2.getPerspectiveTransform(src_points, dst_points)\n",
    "\n",
    "# Apply the perspective transformation\n",
    "warped_image = cv2.warpPerspective(image, M, (width, height))\n",
    "\n",
    "# Display the original and warped images\n",
    "cv2.imshow('Original Image', image)\n",
    "cv2.imshow('Bird\\'s Eye View', warped_image)\n",
    "cv2.waitKey(0)\n",
    "cv2.destroyAllWindows()\n",
    "\n",
    "# Optionally, save the warped image\n",
    "cv2.imwrite('output/warped_image.jpg', cv2.cvtColor(warped_image, cv2.COLOR_RGB2BGR))\n"
   ]
  }
 ],
 "metadata": {
  "kernelspec": {
   "display_name": "Python 3",
   "language": "python",
   "name": "python3"
  },
  "language_info": {
   "codemirror_mode": {
    "name": "ipython",
    "version": 3
   },
   "file_extension": ".py",
   "mimetype": "text/x-python",
   "name": "python",
   "nbconvert_exporter": "python",
   "pygments_lexer": "ipython3",
   "version": "3.10.12"
  }
 },
 "nbformat": 4,
 "nbformat_minor": 2
}
